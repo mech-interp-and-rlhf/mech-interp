{
 "cells": [
  {
   "cell_type": "code",
   "execution_count": 214,
   "id": "d1c2723e",
   "metadata": {},
   "outputs": [],
   "source": [
    "import datasets\n",
    "import numpy as np\n",
    "from tqdm import tqdm\n",
    "import pandas as pd\n",
    "import pyarrow as pa\n",
    "import pyarrow.parquet as pq"
   ]
  },
  {
   "cell_type": "code",
   "execution_count": 199,
   "id": "0d452ff5",
   "metadata": {},
   "outputs": [
    {
     "data": {
      "text/plain": [
       "Dataset({\n",
       "    features: ['activacion'],\n",
       "    num_rows: 1000\n",
       "})"
      ]
     },
     "execution_count": 199,
     "metadata": {},
     "output_type": "execute_result"
    }
   ],
   "source": [
    "ds = datasets.load_dataset(\"naraca/mi-dataset-activaciones-llama3_2\")['train']\n",
    "ds.set_format('numpy') #underlying data is fp16, storedd as fp32\n",
    "# using np allows us to to have fp32 in memory, using the default format would\n",
    "# imply using fp64 (python's default), so we will use 'numpy'. Let's note\n",
    "# that this generates np arrays of 1 axis of np arrays of 2 axis\n",
    "# instead of np arrays of 3 axis when using map with batched = True.\n",
    "# not ideal but better than the alternatives\n",
    "ds"
   ]
  },
  {
   "cell_type": "code",
   "execution_count": 200,
   "id": "7dd8d4d4",
   "metadata": {},
   "outputs": [],
   "source": [
    "def explode(batch):\n",
    "    batch = [row for mat in batch['activacion'] for row in mat]\n",
    "    return {'activacion': batch}"
   ]
  },
  {
   "cell_type": "code",
   "execution_count": 202,
   "id": "1747cbc0",
   "metadata": {},
   "outputs": [
    {
     "data": {
      "application/vnd.jupyter.widget-view+json": {
       "model_id": "8d832645183f413d8ac78fb6f438ad28",
       "version_major": 2,
       "version_minor": 0
      },
      "text/plain": [
       "Map:   0%|          | 0/1000 [00:00<?, ? examples/s]"
      ]
     },
     "metadata": {},
     "output_type": "display_data"
    }
   ],
   "source": [
    "ds = ds.map(\n",
    "    explode,\n",
    "    batched=True,\n",
    "    batch_size=10,\n",
    "    remove_columns=['activacion']\n",
    ")"
   ]
  },
  {
   "cell_type": "code",
   "execution_count": 203,
   "id": "696ee09c",
   "metadata": {},
   "outputs": [
    {
     "data": {
      "application/vnd.jupyter.widget-view+json": {
       "model_id": "cb25e98434c04d7684d2901ae392effd",
       "version_major": 2,
       "version_minor": 0
      },
      "text/plain": [
       "Batching examples:   0%|          | 0/668501 [00:00<?, ? examples/s]"
      ]
     },
     "metadata": {},
     "output_type": "display_data"
    }
   ],
   "source": [
    "d_model = 2048\n",
    "bytes_per_float = 2 # llama uses fp16\n",
    "\n",
    "bytes_per_GibiByte = 2**(10*3)\n",
    "desired_size_in_bytes = bytes_per_GibiByte // 2\n",
    "activation_vectors_per_file = desired_size_in_bytes // (d_model * bytes_per_float)\n",
    "\n",
    "ds = ds.batch(activation_vectors_per_file)"
   ]
  },
  {
   "cell_type": "code",
   "execution_count": 204,
   "id": "e115ece9",
   "metadata": {},
   "outputs": [
    {
     "data": {
      "text/plain": [
       "536870912"
      ]
     },
     "execution_count": 204,
     "metadata": {},
     "output_type": "execute_result"
    }
   ],
   "source": [
    "desired_size_in_bytes"
   ]
  },
  {
   "cell_type": "code",
   "execution_count": null,
   "id": "995c010d",
   "metadata": {},
   "outputs": [
    {
     "name": "stderr",
     "output_type": "stream",
     "text": [
      "100%|██████████| 6/6 [01:13<00:00, 12.21s/it]\n"
     ]
    }
   ],
   "source": [
    "for i, arr in enumerate(tqdm(ds)):\n",
    "    # tried to convert to float16 in explode() but here these activations were\n",
    "    # detected as float32!\n",
    "    flat = pa.array(arr['activacion'].astype(np.float16).ravel(), type=pa.float16())\n",
    "    vec_col = pa.FixedSizeListArray.from_arrays(flat, 2048)\n",
    "    table = pa.table({'activations': vec_col})\n",
    "    pq.write_table(\n",
    "        table,\n",
    "        f\"/workspace/local-dataset/data/activations{i}.parquet\",\n",
    "        compression=\"zstd\",\n",
    "        data_page_size=1024*1024,\n",
    "        row_group_size=8192,\n",
    "    )"
   ]
  }
 ],
 "metadata": {
  "kernelspec": {
   "display_name": "main",
   "language": "python",
   "name": "python3"
  },
  "language_info": {
   "codemirror_mode": {
    "name": "ipython",
    "version": 3
   },
   "file_extension": ".py",
   "mimetype": "text/x-python",
   "name": "python",
   "nbconvert_exporter": "python",
   "pygments_lexer": "ipython3",
   "version": "3.12.3"
  }
 },
 "nbformat": 4,
 "nbformat_minor": 5
}
